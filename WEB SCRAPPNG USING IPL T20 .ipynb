{
 "cells": [
  {
   "cell_type": "code",
   "execution_count": 1,
   "id": "4847dfdf",
   "metadata": {},
   "outputs": [],
   "source": [
    "from bs4 import BeautifulSoup\n",
    "import requests\n",
    "import pandas as pd "
   ]
  },
  {
   "cell_type": "code",
   "execution_count": 2,
   "id": "667c2d6f",
   "metadata": {},
   "outputs": [],
   "source": [
    "url = 'https://www.iplt20.com/auction/2022'"
   ]
  },
  {
   "cell_type": "code",
   "execution_count": 3,
   "id": "33890c7d",
   "metadata": {},
   "outputs": [],
   "source": [
    "r = requests.get(url)  # output tells website gives permission to html data or not"
   ]
  },
  {
   "cell_type": "code",
   "execution_count": 4,
   "id": "ac176082",
   "metadata": {},
   "outputs": [],
   "source": [
    "# print(r)"
   ]
  },
  {
   "cell_type": "code",
   "execution_count": 5,
   "id": "b35c21a4",
   "metadata": {},
   "outputs": [],
   "source": [
    "soup = BeautifulSoup(r.text, 'lxml')"
   ]
  },
  {
   "cell_type": "code",
   "execution_count": 15,
   "id": "84701a01",
   "metadata": {},
   "outputs": [],
   "source": [
    "table = soup.find('table', class_ = 'ih-td-tab auction-tbl')"
   ]
  },
  {
   "cell_type": "code",
   "execution_count": 7,
   "id": "0ef3d9d3",
   "metadata": {},
   "outputs": [],
   "source": [
    "header = table.find_all('th', class_ = 'skip-filter')"
   ]
  },
  {
   "cell_type": "code",
   "execution_count": 8,
   "id": "893537af",
   "metadata": {},
   "outputs": [
    {
     "data": {
      "text/plain": [
       "['TEAM', 'FUNDS REMAINING', 'OVERSEAS PLAYERS ', 'TOTAL PLAYERS']"
      ]
     },
     "execution_count": 8,
     "metadata": {},
     "output_type": "execute_result"
    }
   ],
   "source": [
    "title = []\n",
    "for i in header:\n",
    "    title.append(i.text)\n",
    "title"
   ]
  },
  {
   "cell_type": "code",
   "execution_count": 9,
   "id": "cdcc6a34",
   "metadata": {},
   "outputs": [],
   "source": [
    "IPL_T20_2022 = pd.DataFrame(columns= title)"
   ]
  },
  {
   "cell_type": "code",
   "execution_count": 10,
   "id": "d2d99659",
   "metadata": {},
   "outputs": [],
   "source": [
    "rows = table.find_all('tr')"
   ]
  },
  {
   "cell_type": "code",
   "execution_count": 11,
   "id": "4daed673",
   "metadata": {},
   "outputs": [
    {
     "name": "stdout",
     "output_type": "stream",
     "text": [
      "                          TEAM FUNDS REMAINING OVERSEAS PLAYERS  TOTAL PLAYERS\n",
      "0          Chennai Super Kings    ₹2,95,00,000                 8            25\n",
      "1               Delhi Capitals      ₹10,00,000                 7            24\n",
      "2               Gujarat Titans      ₹15,00,000                 8            23\n",
      "3        Kolkata Knight Riders      ₹45,00,000                 8            25\n",
      "4         Lucknow Super Giants              ₹0                 7            21\n",
      "5               Mumbai Indians      ₹10,00,000                 8            25\n",
      "6                 Punjab Kings    ₹3,45,00,000                 7            25\n",
      "7             Rajasthan Royals      ₹95,00,000                 8            24\n",
      "8  Royal Challengers Bangalore    ₹1,55,00,000                 8            22\n",
      "9          Sunrisers Hyderabad      ₹10,00,000                 8            23\n"
     ]
    }
   ],
   "source": [
    "for i in rows[1:]:\n",
    "    first_td = i.find_all('td')[0].find('div', class_ = 'ih-pt-ic').text.strip()\n",
    "    data = i.find_all('td')[1:]\n",
    "    row = [tr.text for tr in data]\n",
    "    row.insert(0,first_td)\n",
    "    l = len(IPL_T20_2022)\n",
    "    IPL_T20_2022.loc[l] = row\n",
    "\n",
    "print(IPL_T20_2022)"
   ]
  },
  {
   "cell_type": "markdown",
   "id": "85ab484b",
   "metadata": {},
   "source": [
    "### Table 2"
   ]
  },
  {
   "cell_type": "code",
   "execution_count": 33,
   "id": "8bc3118a",
   "metadata": {},
   "outputs": [],
   "source": [
    "table1 = soup.find_all('table', class_ = 'ih-td-tab auction-tbl')[1]"
   ]
  },
  {
   "cell_type": "code",
   "execution_count": 34,
   "id": "98547352",
   "metadata": {},
   "outputs": [],
   "source": [
    "header1 = table1.find_all('th')"
   ]
  },
  {
   "cell_type": "code",
   "execution_count": 37,
   "id": "563d1c1d",
   "metadata": {},
   "outputs": [
    {
     "data": {
      "text/plain": [
       "['TEAM', 'PLAYER', 'TYPE ', 'PRICE']"
      ]
     },
     "execution_count": 37,
     "metadata": {},
     "output_type": "execute_result"
    }
   ],
   "source": [
    "titles = []\n",
    "for i in header1:\n",
    "    titles.append(i.text)\n",
    "titles"
   ]
  },
  {
   "cell_type": "code",
   "execution_count": 55,
   "id": "1e4457bc",
   "metadata": {},
   "outputs": [],
   "source": [
    "df = pd.DataFrame(columns=titles)"
   ]
  },
  {
   "cell_type": "code",
   "execution_count": 57,
   "id": "803df84e",
   "metadata": {},
   "outputs": [],
   "source": [
    "rows = table1.find_all('tr')"
   ]
  },
  {
   "cell_type": "code",
   "execution_count": 56,
   "id": "2485e2ac",
   "metadata": {},
   "outputs": [
    {
     "data": {
      "text/html": [
       "<div>\n",
       "<style scoped>\n",
       "    .dataframe tbody tr th:only-of-type {\n",
       "        vertical-align: middle;\n",
       "    }\n",
       "\n",
       "    .dataframe tbody tr th {\n",
       "        vertical-align: top;\n",
       "    }\n",
       "\n",
       "    .dataframe thead th {\n",
       "        text-align: right;\n",
       "    }\n",
       "</style>\n",
       "<table border=\"1\" class=\"dataframe\">\n",
       "  <thead>\n",
       "    <tr style=\"text-align: right;\">\n",
       "      <th></th>\n",
       "      <th>TEAM</th>\n",
       "      <th>PLAYER</th>\n",
       "      <th>TYPE</th>\n",
       "      <th>PRICE</th>\n",
       "    </tr>\n",
       "  </thead>\n",
       "  <tbody>\n",
       "    <tr>\n",
       "      <th>0</th>\n",
       "      <td>Mumbai Indians</td>\n",
       "      <td>Ishan Kishan</td>\n",
       "      <td>Wicket Keeper</td>\n",
       "      <td>₹15,25,00,000</td>\n",
       "    </tr>\n",
       "    <tr>\n",
       "      <th>1</th>\n",
       "      <td>Chennai Super Kings</td>\n",
       "      <td>Deepak Chahar</td>\n",
       "      <td>Bowler</td>\n",
       "      <td>₹14,00,00,000</td>\n",
       "    </tr>\n",
       "    <tr>\n",
       "      <th>2</th>\n",
       "      <td>Kolkata Knight Riders</td>\n",
       "      <td>Shreyas Iyer</td>\n",
       "      <td>Batsman</td>\n",
       "      <td>₹12,25,00,000</td>\n",
       "    </tr>\n",
       "    <tr>\n",
       "      <th>3</th>\n",
       "      <td>Punjab Kings</td>\n",
       "      <td>Liam Livingstone</td>\n",
       "      <td>All-Rounder</td>\n",
       "      <td>₹11,50,00,000</td>\n",
       "    </tr>\n",
       "    <tr>\n",
       "      <th>4</th>\n",
       "      <td>Delhi Capitals</td>\n",
       "      <td>Shardul Thakur</td>\n",
       "      <td>Bowler</td>\n",
       "      <td>₹10,75,00,000</td>\n",
       "    </tr>\n",
       "    <tr>\n",
       "      <th>5</th>\n",
       "      <td>Royal Challengers Bangalore</td>\n",
       "      <td>Harshal Patel</td>\n",
       "      <td>All-Rounder</td>\n",
       "      <td>₹10,75,00,000</td>\n",
       "    </tr>\n",
       "    <tr>\n",
       "      <th>6</th>\n",
       "      <td>Royal Challengers Bangalore</td>\n",
       "      <td>Wanindu Hasaranga</td>\n",
       "      <td>All-Rounder</td>\n",
       "      <td>₹10,75,00,000</td>\n",
       "    </tr>\n",
       "    <tr>\n",
       "      <th>7</th>\n",
       "      <td>Sunrisers Hyderabad</td>\n",
       "      <td>Nicholas Pooran</td>\n",
       "      <td>Wicket Keeper</td>\n",
       "      <td>₹10,75,00,000</td>\n",
       "    </tr>\n",
       "    <tr>\n",
       "      <th>8</th>\n",
       "      <td>Gujarat Titans</td>\n",
       "      <td>Lockie Ferguson</td>\n",
       "      <td>Bowler</td>\n",
       "      <td>₹10,00,00,000</td>\n",
       "    </tr>\n",
       "    <tr>\n",
       "      <th>9</th>\n",
       "      <td>Lucknow Super Giants</td>\n",
       "      <td>Avesh Khan</td>\n",
       "      <td>Bowler</td>\n",
       "      <td>₹10,00,00,000</td>\n",
       "    </tr>\n",
       "    <tr>\n",
       "      <th>10</th>\n",
       "      <td>Rajasthan Royals</td>\n",
       "      <td>Prasidh Krishna</td>\n",
       "      <td>Bowler</td>\n",
       "      <td>₹10,00,00,000</td>\n",
       "    </tr>\n",
       "  </tbody>\n",
       "</table>\n",
       "</div>"
      ],
      "text/plain": [
       "                           TEAM             PLAYER          TYPE   \\\n",
       "0                Mumbai Indians       Ishan Kishan  Wicket Keeper   \n",
       "1           Chennai Super Kings      Deepak Chahar         Bowler   \n",
       "2         Kolkata Knight Riders       Shreyas Iyer        Batsman   \n",
       "3                  Punjab Kings   Liam Livingstone    All-Rounder   \n",
       "4                Delhi Capitals     Shardul Thakur         Bowler   \n",
       "5   Royal Challengers Bangalore      Harshal Patel    All-Rounder   \n",
       "6   Royal Challengers Bangalore  Wanindu Hasaranga    All-Rounder   \n",
       "7           Sunrisers Hyderabad    Nicholas Pooran  Wicket Keeper   \n",
       "8                Gujarat Titans    Lockie Ferguson         Bowler   \n",
       "9          Lucknow Super Giants         Avesh Khan         Bowler   \n",
       "10             Rajasthan Royals    Prasidh Krishna         Bowler   \n",
       "\n",
       "            PRICE  \n",
       "0   ₹15,25,00,000  \n",
       "1   ₹14,00,00,000  \n",
       "2   ₹12,25,00,000  \n",
       "3   ₹11,50,00,000  \n",
       "4   ₹10,75,00,000  \n",
       "5   ₹10,75,00,000  \n",
       "6   ₹10,75,00,000  \n",
       "7   ₹10,75,00,000  \n",
       "8   ₹10,00,00,000  \n",
       "9   ₹10,00,00,000  \n",
       "10  ₹10,00,00,000  "
      ]
     },
     "execution_count": 56,
     "metadata": {},
     "output_type": "execute_result"
    }
   ],
   "source": [
    "for i in rows[1:]:\n",
    "    first_td = i.find_all('td')[0].find(class_ = 'ih-pt-cont').text.strip()\n",
    "    data = i.find_all('td')[1:]\n",
    "    row = [tr.text for tr in data]\n",
    "    row.insert(0,first_td)\n",
    "    l=len(df)\n",
    "    df.loc[l] = row\n",
    "df\n"
   ]
  },
  {
   "cell_type": "markdown",
   "id": "8bc8b921",
   "metadata": {},
   "source": [
    "### Table 3"
   ]
  },
  {
   "cell_type": "code",
   "execution_count": 83,
   "id": "5cb3c1b4",
   "metadata": {},
   "outputs": [],
   "source": [
    "url = 'https://www.iplt20.com/auction/2021'"
   ]
  },
  {
   "cell_type": "code",
   "execution_count": 84,
   "id": "80cb4f8e",
   "metadata": {},
   "outputs": [],
   "source": [
    "r = requests.get(url)"
   ]
  },
  {
   "cell_type": "code",
   "execution_count": 60,
   "id": "04aacbd9",
   "metadata": {},
   "outputs": [],
   "source": [
    "soup = BeautifulSoup(r.text, 'lxml')"
   ]
  },
  {
   "cell_type": "code",
   "execution_count": 85,
   "id": "19ee7da5",
   "metadata": {},
   "outputs": [],
   "source": [
    "table = soup.find_all('table')"
   ]
  },
  {
   "cell_type": "code",
   "execution_count": 86,
   "id": "91d0463d",
   "metadata": {},
   "outputs": [],
   "source": [
    "table1 = table[0]"
   ]
  },
  {
   "cell_type": "code",
   "execution_count": 87,
   "id": "f802317b",
   "metadata": {},
   "outputs": [],
   "source": [
    "header1 = table1.find_all('th')"
   ]
  },
  {
   "cell_type": "code",
   "execution_count": 88,
   "id": "516097a5",
   "metadata": {},
   "outputs": [
    {
     "data": {
      "text/plain": [
       "['TEAM', 'FUNDS REMAINING', 'OVERSEAS PLAYERS ', 'TOTAL PLAYERS']"
      ]
     },
     "execution_count": 88,
     "metadata": {},
     "output_type": "execute_result"
    }
   ],
   "source": [
    "title = []\n",
    "for i in header1:\n",
    "    title.append(i.text)\n",
    "title"
   ]
  },
  {
   "cell_type": "code",
   "execution_count": 89,
   "id": "10f0523f",
   "metadata": {},
   "outputs": [
    {
     "data": {
      "text/html": [
       "<div>\n",
       "<style scoped>\n",
       "    .dataframe tbody tr th:only-of-type {\n",
       "        vertical-align: middle;\n",
       "    }\n",
       "\n",
       "    .dataframe tbody tr th {\n",
       "        vertical-align: top;\n",
       "    }\n",
       "\n",
       "    .dataframe thead th {\n",
       "        text-align: right;\n",
       "    }\n",
       "</style>\n",
       "<table border=\"1\" class=\"dataframe\">\n",
       "  <thead>\n",
       "    <tr style=\"text-align: right;\">\n",
       "      <th></th>\n",
       "      <th>TEAM</th>\n",
       "      <th>FUNDS REMAINING</th>\n",
       "      <th>OVERSEAS PLAYERS</th>\n",
       "      <th>TOTAL PLAYERS</th>\n",
       "    </tr>\n",
       "  </thead>\n",
       "  <tbody>\n",
       "  </tbody>\n",
       "</table>\n",
       "</div>"
      ],
      "text/plain": [
       "Empty DataFrame\n",
       "Columns: [TEAM, FUNDS REMAINING, OVERSEAS PLAYERS , TOTAL PLAYERS]\n",
       "Index: []"
      ]
     },
     "execution_count": 89,
     "metadata": {},
     "output_type": "execute_result"
    }
   ],
   "source": [
    "df = pd.DataFrame(columns=title)\n",
    "df"
   ]
  },
  {
   "cell_type": "code",
   "execution_count": 90,
   "id": "58e20395",
   "metadata": {},
   "outputs": [],
   "source": [
    "rows = table1.find_all('tr')"
   ]
  },
  {
   "cell_type": "code",
   "execution_count": 91,
   "id": "6fd5b149",
   "metadata": {},
   "outputs": [
    {
     "data": {
      "text/html": [
       "<div>\n",
       "<style scoped>\n",
       "    .dataframe tbody tr th:only-of-type {\n",
       "        vertical-align: middle;\n",
       "    }\n",
       "\n",
       "    .dataframe tbody tr th {\n",
       "        vertical-align: top;\n",
       "    }\n",
       "\n",
       "    .dataframe thead th {\n",
       "        text-align: right;\n",
       "    }\n",
       "</style>\n",
       "<table border=\"1\" class=\"dataframe\">\n",
       "  <thead>\n",
       "    <tr style=\"text-align: right;\">\n",
       "      <th></th>\n",
       "      <th>TEAM</th>\n",
       "      <th>FUNDS REMAINING</th>\n",
       "      <th>OVERSEAS PLAYERS</th>\n",
       "      <th>TOTAL PLAYERS</th>\n",
       "    </tr>\n",
       "  </thead>\n",
       "  <tbody>\n",
       "    <tr>\n",
       "      <th>0</th>\n",
       "      <td>Chennai Super Kings</td>\n",
       "      <td>₹2,55,00,000</td>\n",
       "      <td>8</td>\n",
       "      <td>25</td>\n",
       "    </tr>\n",
       "    <tr>\n",
       "      <th>1</th>\n",
       "      <td>Delhi Capitals</td>\n",
       "      <td>₹2,15,00,000</td>\n",
       "      <td>8</td>\n",
       "      <td>25</td>\n",
       "    </tr>\n",
       "    <tr>\n",
       "      <th>2</th>\n",
       "      <td>Kolkata Knight Riders</td>\n",
       "      <td>₹3,20,00,000</td>\n",
       "      <td>8</td>\n",
       "      <td>25</td>\n",
       "    </tr>\n",
       "    <tr>\n",
       "      <th>3</th>\n",
       "      <td>Mumbai Indians</td>\n",
       "      <td>₹3,65,00,000</td>\n",
       "      <td>8</td>\n",
       "      <td>25</td>\n",
       "    </tr>\n",
       "    <tr>\n",
       "      <th>4</th>\n",
       "      <td>Punjab Kings</td>\n",
       "      <td>₹18,80,00,000</td>\n",
       "      <td>8</td>\n",
       "      <td>25</td>\n",
       "    </tr>\n",
       "    <tr>\n",
       "      <th>5</th>\n",
       "      <td>Rajasthan Royals</td>\n",
       "      <td>₹13,65,00,000</td>\n",
       "      <td>8</td>\n",
       "      <td>24</td>\n",
       "    </tr>\n",
       "    <tr>\n",
       "      <th>6</th>\n",
       "      <td>Royal Challengers Bangalore</td>\n",
       "      <td>₹35,00,000</td>\n",
       "      <td>8</td>\n",
       "      <td>22</td>\n",
       "    </tr>\n",
       "    <tr>\n",
       "      <th>7</th>\n",
       "      <td>Sunrisers Hyderabad</td>\n",
       "      <td>₹6,95,00,000</td>\n",
       "      <td>8</td>\n",
       "      <td>25</td>\n",
       "    </tr>\n",
       "  </tbody>\n",
       "</table>\n",
       "</div>"
      ],
      "text/plain": [
       "                          TEAM FUNDS REMAINING OVERSEAS PLAYERS  TOTAL PLAYERS\n",
       "0          Chennai Super Kings    ₹2,55,00,000                 8            25\n",
       "1               Delhi Capitals    ₹2,15,00,000                 8            25\n",
       "2        Kolkata Knight Riders    ₹3,20,00,000                 8            25\n",
       "3               Mumbai Indians    ₹3,65,00,000                 8            25\n",
       "4                 Punjab Kings   ₹18,80,00,000                 8            25\n",
       "5             Rajasthan Royals   ₹13,65,00,000                 8            24\n",
       "6  Royal Challengers Bangalore      ₹35,00,000                 8            22\n",
       "7          Sunrisers Hyderabad    ₹6,95,00,000                 8            25"
      ]
     },
     "execution_count": 91,
     "metadata": {},
     "output_type": "execute_result"
    }
   ],
   "source": [
    "for i in rows[1:]:\n",
    "    first_td = i.find_all('td')[0].find(class_ = 'ih-pt-cont').text.strip()\n",
    "    data = i.find_all('td')[1:]\n",
    "    row = [tr.text for tr in data]\n",
    "    row.insert(0,first_td)\n",
    "    l = len(df)\n",
    "    df.loc[l] = row\n",
    "df"
   ]
  },
  {
   "cell_type": "markdown",
   "id": "970f2bbd",
   "metadata": {},
   "source": [
    "### Table 4"
   ]
  },
  {
   "cell_type": "code",
   "execution_count": 92,
   "id": "a198d595",
   "metadata": {},
   "outputs": [],
   "source": [
    "table2 = table[1]"
   ]
  },
  {
   "cell_type": "code",
   "execution_count": 95,
   "id": "2951b891",
   "metadata": {},
   "outputs": [],
   "source": [
    "header = table2.find_all('th')"
   ]
  },
  {
   "cell_type": "code",
   "execution_count": 96,
   "id": "95ceb018",
   "metadata": {},
   "outputs": [
    {
     "data": {
      "text/plain": [
       "['TEAM', 'PLAYER', 'TYPE ', 'PRICE']"
      ]
     },
     "execution_count": 96,
     "metadata": {},
     "output_type": "execute_result"
    }
   ],
   "source": [
    "title = []\n",
    "for i in header:\n",
    "    title.append(i.text)\n",
    "title"
   ]
  },
  {
   "cell_type": "code",
   "execution_count": 97,
   "id": "87187cc4",
   "metadata": {},
   "outputs": [],
   "source": [
    "df = pd.DataFrame(columns=title)"
   ]
  },
  {
   "cell_type": "code",
   "execution_count": 102,
   "id": "b9ab8f40",
   "metadata": {},
   "outputs": [],
   "source": [
    "rows = table2.find_all('tr')"
   ]
  },
  {
   "cell_type": "code",
   "execution_count": 106,
   "id": "358cec59",
   "metadata": {},
   "outputs": [
    {
     "data": {
      "text/html": [
       "<div>\n",
       "<style scoped>\n",
       "    .dataframe tbody tr th:only-of-type {\n",
       "        vertical-align: middle;\n",
       "    }\n",
       "\n",
       "    .dataframe tbody tr th {\n",
       "        vertical-align: top;\n",
       "    }\n",
       "\n",
       "    .dataframe thead th {\n",
       "        text-align: right;\n",
       "    }\n",
       "</style>\n",
       "<table border=\"1\" class=\"dataframe\">\n",
       "  <thead>\n",
       "    <tr style=\"text-align: right;\">\n",
       "      <th></th>\n",
       "      <th>TEAM</th>\n",
       "      <th>PLAYER</th>\n",
       "      <th>TYPE</th>\n",
       "      <th>PRICE</th>\n",
       "    </tr>\n",
       "  </thead>\n",
       "  <tbody>\n",
       "    <tr>\n",
       "      <th>0</th>\n",
       "      <td>Rajasthan Royals</td>\n",
       "      <td>Christopher Morris</td>\n",
       "      <td>All-Rounder</td>\n",
       "      <td>₹16,25,00,000</td>\n",
       "    </tr>\n",
       "    <tr>\n",
       "      <th>1</th>\n",
       "      <td>Royal Challengers Bangalore</td>\n",
       "      <td>Kyle Jamieson</td>\n",
       "      <td>All-Rounder</td>\n",
       "      <td>₹15,00,00,000</td>\n",
       "    </tr>\n",
       "    <tr>\n",
       "      <th>2</th>\n",
       "      <td>Royal Challengers Bangalore</td>\n",
       "      <td>Glenn Maxwell</td>\n",
       "      <td>All-Rounder</td>\n",
       "      <td>₹14,25,00,000</td>\n",
       "    </tr>\n",
       "    <tr>\n",
       "      <th>3</th>\n",
       "      <td>Punjab Kings</td>\n",
       "      <td>Jhye Richardson</td>\n",
       "      <td>Bowler</td>\n",
       "      <td>₹14,00,00,000</td>\n",
       "    </tr>\n",
       "    <tr>\n",
       "      <th>4</th>\n",
       "      <td>Chennai Super Kings</td>\n",
       "      <td>Krishnappa Gowtham</td>\n",
       "      <td>All-Rounder</td>\n",
       "      <td>₹9,25,00,000</td>\n",
       "    </tr>\n",
       "    <tr>\n",
       "      <th>5</th>\n",
       "      <td>Punjab Kings</td>\n",
       "      <td>Riley Meredith</td>\n",
       "      <td>Bowler</td>\n",
       "      <td>₹8,00,00,000</td>\n",
       "    </tr>\n",
       "    <tr>\n",
       "      <th>6</th>\n",
       "      <td>Chennai Super Kings</td>\n",
       "      <td>Moeen Ali</td>\n",
       "      <td>All-Rounder</td>\n",
       "      <td>₹7,00,00,000</td>\n",
       "    </tr>\n",
       "    <tr>\n",
       "      <th>7</th>\n",
       "      <td>Punjab Kings</td>\n",
       "      <td>Shahrukh Khan</td>\n",
       "      <td>All-Rounder</td>\n",
       "      <td>₹5,25,00,000</td>\n",
       "    </tr>\n",
       "  </tbody>\n",
       "</table>\n",
       "</div>"
      ],
      "text/plain": [
       "                          TEAM               PLAYER         TYPE   \\\n",
       "0             Rajasthan Royals  Christopher Morris   All-Rounder    \n",
       "1  Royal Challengers Bangalore        Kyle Jamieson   All-Rounder   \n",
       "2  Royal Challengers Bangalore        Glenn Maxwell   All-Rounder   \n",
       "3                 Punjab Kings      Jhye Richardson        Bowler   \n",
       "4          Chennai Super Kings   Krishnappa Gowtham   All-Rounder   \n",
       "5                 Punjab Kings       Riley Meredith        Bowler   \n",
       "6          Chennai Super Kings            Moeen Ali   All-Rounder   \n",
       "7                 Punjab Kings        Shahrukh Khan   All-Rounder   \n",
       "\n",
       "           PRICE  \n",
       "0  ₹16,25,00,000  \n",
       "1  ₹15,00,00,000  \n",
       "2  ₹14,25,00,000  \n",
       "3  ₹14,00,00,000  \n",
       "4   ₹9,25,00,000  \n",
       "5   ₹8,00,00,000  \n",
       "6   ₹7,00,00,000  \n",
       "7   ₹5,25,00,000  "
      ]
     },
     "execution_count": 106,
     "metadata": {},
     "output_type": "execute_result"
    }
   ],
   "source": [
    "for i in rows[1:]:\n",
    "    first_td = i.find_all('td')[0].find(class_ = 'ih-pt-cont').text.strip()\n",
    "    data = i.find_all('td')[1:]\n",
    "    row = [tr.text for tr in data]\n",
    "    row.insert(0,first_td)\n",
    "    l = len(df)\n",
    "    df.loc[l] = row\n",
    "df"
   ]
  },
  {
   "cell_type": "code",
   "execution_count": null,
   "id": "f676a7fb",
   "metadata": {},
   "outputs": [],
   "source": [
    "\n"
   ]
  },
  {
   "cell_type": "code",
   "execution_count": null,
   "id": "771f9de3",
   "metadata": {},
   "outputs": [],
   "source": []
  },
  {
   "cell_type": "code",
   "execution_count": null,
   "id": "af9d0dda",
   "metadata": {},
   "outputs": [],
   "source": []
  },
  {
   "cell_type": "code",
   "execution_count": null,
   "id": "5476116f",
   "metadata": {},
   "outputs": [],
   "source": []
  },
  {
   "cell_type": "code",
   "execution_count": null,
   "id": "34b68884",
   "metadata": {},
   "outputs": [],
   "source": []
  },
  {
   "cell_type": "code",
   "execution_count": null,
   "id": "0bfabab9",
   "metadata": {},
   "outputs": [],
   "source": []
  }
 ],
 "metadata": {
  "kernelspec": {
   "display_name": "Python 3 (ipykernel)",
   "language": "python",
   "name": "python3"
  },
  "language_info": {
   "codemirror_mode": {
    "name": "ipython",
    "version": 3
   },
   "file_extension": ".py",
   "mimetype": "text/x-python",
   "name": "python",
   "nbconvert_exporter": "python",
   "pygments_lexer": "ipython3",
   "version": "3.11.5"
  }
 },
 "nbformat": 4,
 "nbformat_minor": 5
}
